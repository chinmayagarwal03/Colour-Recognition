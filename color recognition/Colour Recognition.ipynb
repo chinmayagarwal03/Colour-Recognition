{
 "cells": [
  {
   "cell_type": "markdown",
   "id": "cda7573d",
   "metadata": {},
   "source": [
    "#### We will import the libraries needed for this task of colour recognition. I will use only three libraries for this task. Pandas, NumPy, and OpenCV"
   ]
  },
  {
   "cell_type": "code",
   "execution_count": 8,
   "id": "a7104669",
   "metadata": {},
   "outputs": [],
   "source": [
    "import numpy as np\n",
    "import pandas as pd\n",
    "import cv2"
   ]
  },
  {
   "cell_type": "markdown",
   "id": "44ac750c",
   "metadata": {},
   "source": [
    "Now, we will define the image we want to use to test our colour recognition task"
   ]
  },
  {
   "cell_type": "code",
   "execution_count": 9,
   "id": "6c834dc9",
   "metadata": {},
   "outputs": [],
   "source": [
    "img = cv2.imread(\"colour.jpeg\")\n"
   ]
  },
  {
   "cell_type": "markdown",
   "id": "c0df31ce",
   "metadata": {},
   "source": [
    "First, we need to train our model to identify colours. To do this, we need data that includes names of colours and values ​​corresponding to those colours. Since most colours can be set using red, green and blue. \n",
    "\n",
    "This is why we will be using the RGB format as the data points. I found a ready CSV file on Github with around 1000 colour names and RGB values."
   ]
  },
  {
   "cell_type": "code",
   "execution_count": 10,
   "id": "fa4edc8a",
   "metadata": {},
   "outputs": [],
   "source": [
    "index=[\"color\", \"color_name\", \"hex\", \"R\", \"G\", \"B\"]\n",
    "csv = pd.read_csv('colors.csv', names=index, header=None)"
   ]
  },
  {
   "cell_type": "markdown",
   "id": "1b583bc5",
   "metadata": {},
   "source": [
    " For our program to work properly, we need some global variables. \n",
    " "
   ]
  },
  {
   "cell_type": "code",
   "execution_count": 11,
   "id": "e28c5a35",
   "metadata": {},
   "outputs": [],
   "source": [
    "clicked = False\n",
    "r = g = b = xpos = ypos = 0"
   ]
  },
  {
   "cell_type": "markdown",
   "id": "9a1a4960",
   "metadata": {},
   "source": [
    "### Colour Recognition Function\n",
    "\n",
    "The function below will be called when you will double-click on an area of ​​the image. It will return the name of the colour and the RGB values ​​for that colour. "
   ]
  },
  {
   "cell_type": "code",
   "execution_count": 16,
   "id": "5068c9ca",
   "metadata": {},
   "outputs": [],
   "source": [
    "def recognize_color(R,G,B):\n",
    "    minimum = 10000\n",
    "    for i in range(len(csv)):\n",
    "        d = abs(R- int(csv.loc[i,\"R\"])) + abs(G- int(csv.loc[i,\"G\"]))+ abs(B- int(csv.loc[i,\"B\"]))\n",
    "        if(d<minimum):\n",
    "            minimum = d\n",
    "            cname = csv.loc[i,\"color_name\"]\n",
    "    return cname"
   ]
  },
  {
   "cell_type": "markdown",
   "id": "997ff588",
   "metadata": {},
   "source": [
    "### Mouse Click Function\n"
   ]
  },
  {
   "cell_type": "code",
   "execution_count": 17,
   "id": "356f3dd4",
   "metadata": {},
   "outputs": [],
   "source": [
    "def mouse_click(event, x, y, flags, param):\n",
    "    if event == cv2.EVENT_LBUTTONDBLCLK:\n",
    "        global b,g,r,xpos,ypos, clicked\n",
    "        clicked = True\n",
    "        xpos = x\n",
    "        ypos = y\n",
    "        b,g,r = img[y,x]\n",
    "        b = int(b)\n",
    "        g = int(g)\n",
    "        r = int(r)"
   ]
  },
  {
   "cell_type": "markdown",
   "id": "f460bc48",
   "metadata": {},
   "source": [
    "### Processing with Computer Vision\n",
    "The application is so simple that it returns the name of the colour and the colour values ​​when you double click on a certain area of ​​the image"
   ]
  },
  {
   "cell_type": "code",
   "execution_count": 19,
   "id": "251ab28f",
   "metadata": {},
   "outputs": [],
   "source": [
    "cv2.namedWindow('Color Recognition App')\n",
    "cv2.setMouseCallback('Color Recognition App', mouse_click)\n",
    "while(1):\n",
    "    cv2.imshow(\"Color Recognition App\",img)\n",
    "    if (clicked):\n",
    "   \n",
    "        #cv2.rectangle(image, startpoint, endpoint, color, thickness)-1 fills entire rectangle \n",
    "        cv2.rectangle(img,(20,20), (750,60), (b,g,r), -1)\n",
    "#Creating text string to display( Color name and RGB values )\n",
    "        text = recognize_color(r,g,b) + ' R='+ str(r) +  ' G='+ str(g) +  ' B='+ str(b)\n",
    "        \n",
    "        #cv2.putText(img,text,start,font(0-7),fontScale,color,thickness,lineType )\n",
    "        cv2.putText(img, text,(50,50),2,0.8,(255,255,255),2,cv2.LINE_AA)\n",
    "#For very light colours we will display text in black colour\n",
    "        if(r+g+b>=600):\n",
    "            cv2.putText(img, text,(50,50),2,0.8,(0,0,0),2,cv2.LINE_AA)\n",
    "            \n",
    "        clicked=False\n",
    "#Break the loop when user hits 'Q' key    \n",
    "    if cv2.waitKey(1) & 0xFF ==ord('q'):\n",
    "        break\n",
    "cv2.destroyAllWindows()"
   ]
  },
  {
   "cell_type": "code",
   "execution_count": null,
   "id": "d6e7dfbf",
   "metadata": {},
   "outputs": [],
   "source": []
  },
  {
   "cell_type": "code",
   "execution_count": null,
   "id": "cb255026",
   "metadata": {},
   "outputs": [],
   "source": []
  },
  {
   "cell_type": "code",
   "execution_count": null,
   "id": "ed4b621b",
   "metadata": {},
   "outputs": [],
   "source": []
  }
 ],
 "metadata": {
  "kernelspec": {
   "display_name": "Python 3 (ipykernel)",
   "language": "python",
   "name": "python3"
  },
  "language_info": {
   "codemirror_mode": {
    "name": "ipython",
    "version": 3
   },
   "file_extension": ".py",
   "mimetype": "text/x-python",
   "name": "python",
   "nbconvert_exporter": "python",
   "pygments_lexer": "ipython3",
   "version": "3.9.13"
  }
 },
 "nbformat": 4,
 "nbformat_minor": 5
}
